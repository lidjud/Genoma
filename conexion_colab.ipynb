{
  "nbformat": 4,
  "nbformat_minor": 0,
  "metadata": {
    "colab": {
      "name": "conexion_colab.ipynb",
      "provenance": [],
      "authorship_tag": "ABX9TyMJZYq6feQTgQOgsWKVe8c4",
      "include_colab_link": true
    },
    "kernelspec": {
      "name": "python3",
      "display_name": "Python 3"
    },
    "language_info": {
      "name": "python"
    }
  },
  "cells": [
    {
      "cell_type": "markdown",
      "metadata": {
        "id": "view-in-github",
        "colab_type": "text"
      },
      "source": [
        "<a href=\"https://colab.research.google.com/github/lidjud/Genoma/blob/main/conexion_colab.ipynb\" target=\"_parent\"><img src=\"https://colab.research.google.com/assets/colab-badge.svg\" alt=\"Open In Colab\"/></a>"
      ]
    },
    {
      "cell_type": "code",
      "execution_count": 1,
      "metadata": {
        "colab": {
          "base_uri": "https://localhost:8080/"
        },
        "id": "pu8FJSXu6LTA",
        "outputId": "74255e79-7c96-40c0-dbed-d22059b0f904"
      },
      "outputs": [
        {
          "output_type": "stream",
          "name": "stdout",
          "text": [
            "Mounted at /content/drive\n"
          ]
        }
      ],
      "source": [
        "# Google Drive activation\n",
        "from google.colab import drive\n",
        "drive.mount('/content/drive')"
      ]
    },
    {
      "cell_type": "code",
      "source": [
        "name = '/content/drive/MyDrive/Colab Notebooks/progamacion_ibt_s22_2/archivos/genoma.txt'"
      ],
      "metadata": {
        "id": "L3-JG4Ft6SPG"
      },
      "execution_count": 24,
      "outputs": []
    },
    {
      "cell_type": "code",
      "source": [
        "with open(name) as f: # c:/sample/readme.txt\n",
        "    data = f.readlines()\n",
        "    print(data)"
      ],
      "metadata": {
        "id": "hoWCV-FBB9aC"
      },
      "execution_count": null,
      "outputs": []
    },
    {
      "cell_type": "code",
      "source": [
        ""
      ],
      "metadata": {
        "id": "j9GjNOjHEryI"
      },
      "execution_count": null,
      "outputs": []
    }
  ]
}