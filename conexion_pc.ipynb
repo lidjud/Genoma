{
  "nbformat": 4,
  "nbformat_minor": 0,
  "metadata": {
    "colab": {
      "name": "conexion_pc.ipynb",
      "provenance": [],
      "authorship_tag": "ABX9TyMo25F+CzgWD8jgc4jiICcg",
      "include_colab_link": true
    },
    "kernelspec": {
      "name": "python3",
      "display_name": "Python 3"
    },
    "language_info": {
      "name": "python"
    }
  },
  "cells": [
    {
      "cell_type": "markdown",
      "metadata": {
        "id": "view-in-github",
        "colab_type": "text"
      },
      "source": [
        "<a href=\"https://colab.research.google.com/github/lidjud/Genoma/blob/main/conexion_pc.ipynb\" target=\"_parent\"><img src=\"https://colab.research.google.com/assets/colab-badge.svg\" alt=\"Open In Colab\"/></a>"
      ]
    },
    {
      "cell_type": "code",
      "execution_count": null,
      "metadata": {
        "id": "S-8bdze8EwbX"
      },
      "outputs": [],
      "source": [
        "from google.colab import files\n",
        "uploaded = files.upload()"
      ]
    },
    {
      "cell_type": "code",
      "source": [
        "count =0\n",
        "arreglo = []\n",
        "\n",
        "with open('genoma.txt', 'r') as fichero:\n",
        "    for line in fichero:\n",
        "        line = line.strip('\\n')\n",
        "        #print(line)\n",
        "        #print(count)\n",
        "        count += 1\n",
        "        arreglo.append(line)\n",
        "genoma = list(arreglo) \n",
        "print(genoma)"
      ],
      "metadata": {
        "id": "VA-_OYn_E_MK"
      },
      "execution_count": null,
      "outputs": []
    },
    {
      "cell_type": "code",
      "source": [
        "type(genoma)"
      ],
      "metadata": {
        "id": "AoOj6iAFGSl9"
      },
      "execution_count": null,
      "outputs": []
    },
    {
      "cell_type": "code",
      "source": [
        "s = \"\"\n",
        "genoma_data = s.join(genoma)"
      ],
      "metadata": {
        "id": "qVSdTy92Fh9C"
      },
      "execution_count": 50,
      "outputs": []
    },
    {
      "cell_type": "code",
      "source": [
        "genoma_data"
      ],
      "metadata": {
        "id": "RNlzUrauGM4W"
      },
      "execution_count": null,
      "outputs": []
    },
    {
      "cell_type": "code",
      "source": [
        "len(genoma_data)"
      ],
      "metadata": {
        "id": "62YU2ViOH7oK"
      },
      "execution_count": null,
      "outputs": []
    },
    {
      "cell_type": "code",
      "source": [
        "for c in genoma_data[5:10]:\n",
        "  print(c)"
      ],
      "metadata": {
        "id": "0obV6i9QIO5g"
      },
      "execution_count": null,
      "outputs": []
    },
    {
      "cell_type": "code",
      "source": [
        ""
      ],
      "metadata": {
        "id": "egOw8-9XIysv"
      },
      "execution_count": null,
      "outputs": []
    }
  ]
}